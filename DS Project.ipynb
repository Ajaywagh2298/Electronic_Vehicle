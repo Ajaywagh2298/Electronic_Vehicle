{
 "cells": [
  {
   "cell_type": "code",
   "execution_count": 49,
   "id": "89698887",
   "metadata": {},
   "outputs": [],
   "source": [
    "import pandas as pd\n",
    "import matplotlib.pyplot as plt\n",
    "import seaborn as sns\n",
    "import numpy as np\n",
    "from sklearn.model_selection import train_test_split\n",
    "from sklearn.linear_model import LinearRegression\n",
    "from sklearn.linear_model import Lasso\n",
    "from sklearn import metrics"
   ]
  },
  {
   "cell_type": "code",
   "execution_count": 50,
   "id": "3526c19e",
   "metadata": {},
   "outputs": [],
   "source": [
    "# loading the data from csv file to pandas dataframe\n",
    "car_dataset = pd.read_csv('EVDatabase2nd.csv')"
   ]
  },
  {
   "cell_type": "code",
   "execution_count": 51,
   "id": "f566f447",
   "metadata": {},
   "outputs": [
    {
     "data": {
      "text/plain": "                               Name  \\\n0                     Opel Ampera-e   \n1         Renault Kangoo Maxi ZE 33   \n2                       Nissan Leaf   \n3  Audi e-tron Sportback 55 quattro   \n4            Porsche Taycan Turbo S   \n\n                                    Subtitle Acceleration  TopSpeed   Range  \\\n0    Battery Electric Vehicle |       58 kWh      7.3 sec  150 km/h  335 km   \n1    Battery Electric Vehicle |       31 kWh     22.4 sec  130 km/h  160 km   \n2    Battery Electric Vehicle |       36 kWh      7.9 sec  144 km/h  220 km   \n3  Battery Electric Vehicle |       86.5 kWh      5.7 sec  200 km/h  375 km   \n4  Battery Electric Vehicle |       83.7 kWh      2.8 sec  260 km/h  390 km   \n\n  Efficiency FastChargeSpeed              Drive  NumberofSeats PriceinGermany  \\\n0  173 Wh/km        210 km/h  Front Wheel Drive              5       € 42,990   \n1  194 Wh/km               -  Front Wheel Drive              5            NaN   \n2  164 Wh/km        230 km/h  Front Wheel Drive              5       € 29,990   \n3  231 Wh/km        600 km/h    All Wheel Drive              5            NaN   \n4  215 Wh/km        860 km/h    All Wheel Drive              4     € 1,86,336   \n\n  PriceinUK PriceinIndia  \n0       NaN   ? 1,03,435  \n1   £31,680          NaN  \n2   £25,995     ? 67,998  \n3   £79,900   ? 2,76,755  \n4  £138,830   ? 2,56,939  ",
      "text/html": "<div>\n<style scoped>\n    .dataframe tbody tr th:only-of-type {\n        vertical-align: middle;\n    }\n\n    .dataframe tbody tr th {\n        vertical-align: top;\n    }\n\n    .dataframe thead th {\n        text-align: right;\n    }\n</style>\n<table border=\"1\" class=\"dataframe\">\n  <thead>\n    <tr style=\"text-align: right;\">\n      <th></th>\n      <th>Name</th>\n      <th>Subtitle</th>\n      <th>Acceleration</th>\n      <th>TopSpeed</th>\n      <th>Range</th>\n      <th>Efficiency</th>\n      <th>FastChargeSpeed</th>\n      <th>Drive</th>\n      <th>NumberofSeats</th>\n      <th>PriceinGermany</th>\n      <th>PriceinUK</th>\n      <th>PriceinIndia</th>\n    </tr>\n  </thead>\n  <tbody>\n    <tr>\n      <th>0</th>\n      <td>Opel Ampera-e</td>\n      <td>Battery Electric Vehicle |       58 kWh</td>\n      <td>7.3 sec</td>\n      <td>150 km/h</td>\n      <td>335 km</td>\n      <td>173 Wh/km</td>\n      <td>210 km/h</td>\n      <td>Front Wheel Drive</td>\n      <td>5</td>\n      <td>€ 42,990</td>\n      <td>NaN</td>\n      <td>? 1,03,435</td>\n    </tr>\n    <tr>\n      <th>1</th>\n      <td>Renault Kangoo Maxi ZE 33</td>\n      <td>Battery Electric Vehicle |       31 kWh</td>\n      <td>22.4 sec</td>\n      <td>130 km/h</td>\n      <td>160 km</td>\n      <td>194 Wh/km</td>\n      <td>-</td>\n      <td>Front Wheel Drive</td>\n      <td>5</td>\n      <td>NaN</td>\n      <td>£31,680</td>\n      <td>NaN</td>\n    </tr>\n    <tr>\n      <th>2</th>\n      <td>Nissan Leaf</td>\n      <td>Battery Electric Vehicle |       36 kWh</td>\n      <td>7.9 sec</td>\n      <td>144 km/h</td>\n      <td>220 km</td>\n      <td>164 Wh/km</td>\n      <td>230 km/h</td>\n      <td>Front Wheel Drive</td>\n      <td>5</td>\n      <td>€ 29,990</td>\n      <td>£25,995</td>\n      <td>? 67,998</td>\n    </tr>\n    <tr>\n      <th>3</th>\n      <td>Audi e-tron Sportback 55 quattro</td>\n      <td>Battery Electric Vehicle |       86.5 kWh</td>\n      <td>5.7 sec</td>\n      <td>200 km/h</td>\n      <td>375 km</td>\n      <td>231 Wh/km</td>\n      <td>600 km/h</td>\n      <td>All Wheel Drive</td>\n      <td>5</td>\n      <td>NaN</td>\n      <td>£79,900</td>\n      <td>? 2,76,755</td>\n    </tr>\n    <tr>\n      <th>4</th>\n      <td>Porsche Taycan Turbo S</td>\n      <td>Battery Electric Vehicle |       83.7 kWh</td>\n      <td>2.8 sec</td>\n      <td>260 km/h</td>\n      <td>390 km</td>\n      <td>215 Wh/km</td>\n      <td>860 km/h</td>\n      <td>All Wheel Drive</td>\n      <td>4</td>\n      <td>€ 1,86,336</td>\n      <td>£138,830</td>\n      <td>? 2,56,939</td>\n    </tr>\n  </tbody>\n</table>\n</div>"
     },
     "execution_count": 51,
     "metadata": {},
     "output_type": "execute_result"
    }
   ],
   "source": [
    "# inspecting the first 5 rows of the dataframe\n",
    "car_dataset.head()\n"
   ]
  },
  {
   "cell_type": "code",
   "execution_count": 52,
   "id": "3f9f5e8a",
   "metadata": {},
   "outputs": [
    {
     "data": {
      "text/plain": "(180, 12)"
     },
     "execution_count": 52,
     "metadata": {},
     "output_type": "execute_result"
    }
   ],
   "source": [
    "# checking the number of rows and columns\n",
    "car_dataset.shape"
   ]
  },
  {
   "cell_type": "code",
   "execution_count": 53,
   "id": "0c907a4a",
   "metadata": {},
   "outputs": [
    {
     "name": "stdout",
     "output_type": "stream",
     "text": [
      "<class 'pandas.core.frame.DataFrame'>\n",
      "RangeIndex: 180 entries, 0 to 179\n",
      "Data columns (total 12 columns):\n",
      " #   Column           Non-Null Count  Dtype \n",
      "---  ------           --------------  ----- \n",
      " 0   Name             180 non-null    object\n",
      " 1   Subtitle         180 non-null    object\n",
      " 2   Acceleration     180 non-null    object\n",
      " 3   TopSpeed         180 non-null    object\n",
      " 4   Range            180 non-null    object\n",
      " 5   Efficiency       180 non-null    object\n",
      " 6   FastChargeSpeed  180 non-null    object\n",
      " 7   Drive            180 non-null    object\n",
      " 8   NumberofSeats    180 non-null    int64 \n",
      " 9   PriceinGermany   168 non-null    object\n",
      " 10  PriceinUK        136 non-null    object\n",
      " 11  PriceinIndia     160 non-null    object\n",
      "dtypes: int64(1), object(11)\n",
      "memory usage: 17.0+ KB\n"
     ]
    }
   ],
   "source": [
    "# getting some information about the dataset\n",
    "car_dataset.info()"
   ]
  },
  {
   "cell_type": "code",
   "execution_count": 54,
   "id": "3aaa6e44",
   "metadata": {},
   "outputs": [
    {
     "data": {
      "text/plain": "Name                0\nSubtitle            0\nAcceleration        0\nTopSpeed            0\nRange               0\nEfficiency          0\nFastChargeSpeed     0\nDrive               0\nNumberofSeats       0\nPriceinGermany     12\nPriceinUK          44\nPriceinIndia       20\ndtype: int64"
     },
     "execution_count": 54,
     "metadata": {},
     "output_type": "execute_result"
    }
   ],
   "source": [
    "# checking the number of missing values\n",
    "car_dataset.isnull().sum()"
   ]
  },
  {
   "cell_type": "code",
   "execution_count": 55,
   "id": "aa61b149",
   "metadata": {},
   "outputs": [
    {
     "name": "stdout",
     "output_type": "stream",
     "text": [
      "Front Wheel Drive    71\n",
      "All Wheel Drive      64\n",
      "Rear Wheel Drive     45\n",
      "Name: Drive, dtype: int64\n",
      "5    118\n",
      "7     32\n",
      "4     28\n",
      "2      2\n",
      "Name: NumberofSeats, dtype: int64\n"
     ]
    }
   ],
   "source": [
    "# checking the distribution of categorical data\n",
    "print(car_dataset.Drive.value_counts())\n",
    "print(car_dataset.NumberofSeats.value_counts())\n"
   ]
  },
  {
   "cell_type": "code",
   "execution_count": 56,
   "id": "8b8ac9f8",
   "metadata": {},
   "outputs": [],
   "source": [
    "FastChargeSpeed=[]\n",
    "for item in car_dataset['FastChargeSpeed']:\n",
    "    FastChargeSpeed+=[int(item.replace(' km/h','').replace('-','0'))]\n",
    "car_dataset['FastChargeSpeed']=FastChargeSpeed\n",
    "\n",
    "Efficiency=[]\n",
    "for item in car_dataset['Efficiency']:\n",
    "    Efficiency+=[int(item.replace(' Wh/km',''))]\n",
    "car_dataset['Efficiency']=Efficiency\n",
    "\n",
    "Range=[]\n",
    "for item in car_dataset['Range']:\n",
    "    Range+=[int(item.replace(' km',''))]\n",
    "car_dataset['Range']=Range\n",
    "\n",
    "TopSpeed=[]\n",
    "for item in car_dataset['TopSpeed']:\n",
    "    TopSpeed+=[int(item.replace(' km/h',''))]\n",
    "car_dataset['TopSpeed']=TopSpeed\n",
    "\n",
    "Acceleration=[]\n",
    "for item in car_dataset['Acceleration']:\n",
    "    Acceleration+=[float(item.replace(' sec',''))]\n",
    "car_dataset['Acceleration']=Acceleration\n",
    "\n",
    "Subtitle=[]\n",
    "for item in car_dataset['Subtitle']:\n",
    "    Subtitle+=[float(item.replace('Battery Electric Vehicle | ','').replace(' kWh','').replace('      ',''))]\n",
    "car_dataset['Subtitle']=Subtitle\n",
    "\n",
    "\n"
   ]
  },
  {
   "cell_type": "code",
   "execution_count": 57,
   "id": "ccb23582",
   "metadata": {},
   "outputs": [],
   "source": [
    "car_dataset=car_dataset.fillna('0')"
   ]
  },
  {
   "cell_type": "code",
   "execution_count": 58,
   "id": "d7f1ce68",
   "metadata": {},
   "outputs": [],
   "source": [
    "PriceinIndia=[]\n",
    "for item in car_dataset['PriceinIndia']:\n",
    "    PriceinIndia+=[int(item.replace('?','').replace(',',''))]\n",
    "car_dataset['PriceinIndia']=PriceinIndia\n",
    "\n",
    "PriceinGermany=[]\n",
    "for item in car_dataset['PriceinGermany']:\n",
    "    PriceinGermany+=[int(item.replace('€','').replace(',',''))]\n",
    "car_dataset['PriceinGermany']=PriceinGermany"
   ]
  },
  {
   "cell_type": "code",
   "execution_count": 59,
   "id": "4a2a6912",
   "metadata": {},
   "outputs": [
    {
     "data": {
      "text/plain": "                               Name  Subtitle  Acceleration  TopSpeed  Range  \\\n0                     Opel Ampera-e      58.0           7.3       150    335   \n1         Renault Kangoo Maxi ZE 33      31.0          22.4       130    160   \n2                       Nissan Leaf      36.0           7.9       144    220   \n3  Audi e-tron Sportback 55 quattro      86.5           5.7       200    375   \n4            Porsche Taycan Turbo S      83.7           2.8       260    390   \n\n   Efficiency  FastChargeSpeed              Drive  NumberofSeats  \\\n0         173              210  Front Wheel Drive              5   \n1         194                0  Front Wheel Drive              5   \n2         164              230  Front Wheel Drive              5   \n3         231              600    All Wheel Drive              5   \n4         215              860    All Wheel Drive              4   \n\n   PriceinGermany  PriceinUK  PriceinIndia  \n0           42990          0        103435  \n1               0      31680             0  \n2           29990      25995         67998  \n3               0      79900        276755  \n4          186336     138830        256939  ",
      "text/html": "<div>\n<style scoped>\n    .dataframe tbody tr th:only-of-type {\n        vertical-align: middle;\n    }\n\n    .dataframe tbody tr th {\n        vertical-align: top;\n    }\n\n    .dataframe thead th {\n        text-align: right;\n    }\n</style>\n<table border=\"1\" class=\"dataframe\">\n  <thead>\n    <tr style=\"text-align: right;\">\n      <th></th>\n      <th>Name</th>\n      <th>Subtitle</th>\n      <th>Acceleration</th>\n      <th>TopSpeed</th>\n      <th>Range</th>\n      <th>Efficiency</th>\n      <th>FastChargeSpeed</th>\n      <th>Drive</th>\n      <th>NumberofSeats</th>\n      <th>PriceinGermany</th>\n      <th>PriceinUK</th>\n      <th>PriceinIndia</th>\n    </tr>\n  </thead>\n  <tbody>\n    <tr>\n      <th>0</th>\n      <td>Opel Ampera-e</td>\n      <td>58.0</td>\n      <td>7.3</td>\n      <td>150</td>\n      <td>335</td>\n      <td>173</td>\n      <td>210</td>\n      <td>Front Wheel Drive</td>\n      <td>5</td>\n      <td>42990</td>\n      <td>0</td>\n      <td>103435</td>\n    </tr>\n    <tr>\n      <th>1</th>\n      <td>Renault Kangoo Maxi ZE 33</td>\n      <td>31.0</td>\n      <td>22.4</td>\n      <td>130</td>\n      <td>160</td>\n      <td>194</td>\n      <td>0</td>\n      <td>Front Wheel Drive</td>\n      <td>5</td>\n      <td>0</td>\n      <td>31680</td>\n      <td>0</td>\n    </tr>\n    <tr>\n      <th>2</th>\n      <td>Nissan Leaf</td>\n      <td>36.0</td>\n      <td>7.9</td>\n      <td>144</td>\n      <td>220</td>\n      <td>164</td>\n      <td>230</td>\n      <td>Front Wheel Drive</td>\n      <td>5</td>\n      <td>29990</td>\n      <td>25995</td>\n      <td>67998</td>\n    </tr>\n    <tr>\n      <th>3</th>\n      <td>Audi e-tron Sportback 55 quattro</td>\n      <td>86.5</td>\n      <td>5.7</td>\n      <td>200</td>\n      <td>375</td>\n      <td>231</td>\n      <td>600</td>\n      <td>All Wheel Drive</td>\n      <td>5</td>\n      <td>0</td>\n      <td>79900</td>\n      <td>276755</td>\n    </tr>\n    <tr>\n      <th>4</th>\n      <td>Porsche Taycan Turbo S</td>\n      <td>83.7</td>\n      <td>2.8</td>\n      <td>260</td>\n      <td>390</td>\n      <td>215</td>\n      <td>860</td>\n      <td>All Wheel Drive</td>\n      <td>4</td>\n      <td>186336</td>\n      <td>138830</td>\n      <td>256939</td>\n    </tr>\n  </tbody>\n</table>\n</div>"
     },
     "execution_count": 59,
     "metadata": {},
     "output_type": "execute_result"
    }
   ],
   "source": [
    "PriceinUK=[]\n",
    "for item in car_dataset['PriceinUK']:\n",
    "    PriceinUK+=[int(item.replace('£','').replace(',',''))]\n",
    "car_dataset['PriceinUK']=PriceinUK\n",
    "\n",
    "\n",
    "car_dataset.head()"
   ]
  },
  {
   "cell_type": "code",
   "execution_count": 60,
   "id": "b198fb67",
   "metadata": {},
   "outputs": [
    {
     "data": {
      "text/plain": "                 Subtitle  Acceleration  TopSpeed     Range  Efficiency  \\\nSubtitle         1.000000     -0.622985  0.691415  0.890092    0.356426   \nAcceleration    -0.622985      1.000000 -0.821041 -0.712077    0.140984   \nTopSpeed         0.691415     -0.821041  1.000000  0.760319   -0.047383   \nRange            0.890092     -0.712077  0.760319  1.000000   -0.072273   \nEfficiency       0.356426      0.140984 -0.047383 -0.072273    1.000000   \nFastChargeSpeed  0.659743     -0.741670  0.773190  0.767574   -0.059914   \nNumberofSeats    0.134447      0.318302 -0.242567 -0.068851    0.602469   \nPriceinGermany   0.598084     -0.501519  0.678865  0.569037    0.239221   \nPriceinUK        0.621253     -0.674273  0.792669  0.620757    0.084527   \nPriceinIndia    -0.015715     -0.070018 -0.012734 -0.005507   -0.038414   \n\n                 FastChargeSpeed  NumberofSeats  PriceinGermany  PriceinUK  \\\nSubtitle                0.659743       0.134447        0.598084   0.621253   \nAcceleration           -0.741670       0.318302       -0.501519  -0.674273   \nTopSpeed                0.773190      -0.242567        0.678865   0.792669   \nRange                   0.767574      -0.068851        0.569037   0.620757   \nEfficiency             -0.059914       0.602469        0.239221   0.084527   \nFastChargeSpeed         1.000000      -0.119644        0.595609   0.650851   \nNumberofSeats          -0.119644       1.000000       -0.012455  -0.211985   \nPriceinGermany          0.595609      -0.012455        1.000000   0.698753   \nPriceinUK               0.650851      -0.211985        0.698753   1.000000   \nPriceinIndia           -0.012302      -0.088681       -0.034754  -0.003584   \n\n                 PriceinIndia  \nSubtitle            -0.015715  \nAcceleration        -0.070018  \nTopSpeed            -0.012734  \nRange               -0.005507  \nEfficiency          -0.038414  \nFastChargeSpeed     -0.012302  \nNumberofSeats       -0.088681  \nPriceinGermany      -0.034754  \nPriceinUK           -0.003584  \nPriceinIndia         1.000000  ",
      "text/html": "<div>\n<style scoped>\n    .dataframe tbody tr th:only-of-type {\n        vertical-align: middle;\n    }\n\n    .dataframe tbody tr th {\n        vertical-align: top;\n    }\n\n    .dataframe thead th {\n        text-align: right;\n    }\n</style>\n<table border=\"1\" class=\"dataframe\">\n  <thead>\n    <tr style=\"text-align: right;\">\n      <th></th>\n      <th>Subtitle</th>\n      <th>Acceleration</th>\n      <th>TopSpeed</th>\n      <th>Range</th>\n      <th>Efficiency</th>\n      <th>FastChargeSpeed</th>\n      <th>NumberofSeats</th>\n      <th>PriceinGermany</th>\n      <th>PriceinUK</th>\n      <th>PriceinIndia</th>\n    </tr>\n  </thead>\n  <tbody>\n    <tr>\n      <th>Subtitle</th>\n      <td>1.000000</td>\n      <td>-0.622985</td>\n      <td>0.691415</td>\n      <td>0.890092</td>\n      <td>0.356426</td>\n      <td>0.659743</td>\n      <td>0.134447</td>\n      <td>0.598084</td>\n      <td>0.621253</td>\n      <td>-0.015715</td>\n    </tr>\n    <tr>\n      <th>Acceleration</th>\n      <td>-0.622985</td>\n      <td>1.000000</td>\n      <td>-0.821041</td>\n      <td>-0.712077</td>\n      <td>0.140984</td>\n      <td>-0.741670</td>\n      <td>0.318302</td>\n      <td>-0.501519</td>\n      <td>-0.674273</td>\n      <td>-0.070018</td>\n    </tr>\n    <tr>\n      <th>TopSpeed</th>\n      <td>0.691415</td>\n      <td>-0.821041</td>\n      <td>1.000000</td>\n      <td>0.760319</td>\n      <td>-0.047383</td>\n      <td>0.773190</td>\n      <td>-0.242567</td>\n      <td>0.678865</td>\n      <td>0.792669</td>\n      <td>-0.012734</td>\n    </tr>\n    <tr>\n      <th>Range</th>\n      <td>0.890092</td>\n      <td>-0.712077</td>\n      <td>0.760319</td>\n      <td>1.000000</td>\n      <td>-0.072273</td>\n      <td>0.767574</td>\n      <td>-0.068851</td>\n      <td>0.569037</td>\n      <td>0.620757</td>\n      <td>-0.005507</td>\n    </tr>\n    <tr>\n      <th>Efficiency</th>\n      <td>0.356426</td>\n      <td>0.140984</td>\n      <td>-0.047383</td>\n      <td>-0.072273</td>\n      <td>1.000000</td>\n      <td>-0.059914</td>\n      <td>0.602469</td>\n      <td>0.239221</td>\n      <td>0.084527</td>\n      <td>-0.038414</td>\n    </tr>\n    <tr>\n      <th>FastChargeSpeed</th>\n      <td>0.659743</td>\n      <td>-0.741670</td>\n      <td>0.773190</td>\n      <td>0.767574</td>\n      <td>-0.059914</td>\n      <td>1.000000</td>\n      <td>-0.119644</td>\n      <td>0.595609</td>\n      <td>0.650851</td>\n      <td>-0.012302</td>\n    </tr>\n    <tr>\n      <th>NumberofSeats</th>\n      <td>0.134447</td>\n      <td>0.318302</td>\n      <td>-0.242567</td>\n      <td>-0.068851</td>\n      <td>0.602469</td>\n      <td>-0.119644</td>\n      <td>1.000000</td>\n      <td>-0.012455</td>\n      <td>-0.211985</td>\n      <td>-0.088681</td>\n    </tr>\n    <tr>\n      <th>PriceinGermany</th>\n      <td>0.598084</td>\n      <td>-0.501519</td>\n      <td>0.678865</td>\n      <td>0.569037</td>\n      <td>0.239221</td>\n      <td>0.595609</td>\n      <td>-0.012455</td>\n      <td>1.000000</td>\n      <td>0.698753</td>\n      <td>-0.034754</td>\n    </tr>\n    <tr>\n      <th>PriceinUK</th>\n      <td>0.621253</td>\n      <td>-0.674273</td>\n      <td>0.792669</td>\n      <td>0.620757</td>\n      <td>0.084527</td>\n      <td>0.650851</td>\n      <td>-0.211985</td>\n      <td>0.698753</td>\n      <td>1.000000</td>\n      <td>-0.003584</td>\n    </tr>\n    <tr>\n      <th>PriceinIndia</th>\n      <td>-0.015715</td>\n      <td>-0.070018</td>\n      <td>-0.012734</td>\n      <td>-0.005507</td>\n      <td>-0.038414</td>\n      <td>-0.012302</td>\n      <td>-0.088681</td>\n      <td>-0.034754</td>\n      <td>-0.003584</td>\n      <td>1.000000</td>\n    </tr>\n  </tbody>\n</table>\n</div>"
     },
     "execution_count": 60,
     "metadata": {},
     "output_type": "execute_result"
    }
   ],
   "source": [
    "car_dataset.corr()\n"
   ]
  },
  {
   "cell_type": "code",
   "execution_count": 61,
   "id": "6f8e4f9b",
   "metadata": {},
   "outputs": [
    {
     "data": {
      "text/plain": "                               Name  Subtitle  Acceleration  TopSpeed  Range  \\\n0                     Opel Ampera-e      58.0           7.3       150    335   \n1         Renault Kangoo Maxi ZE 33      31.0          22.4       130    160   \n2                       Nissan Leaf      36.0           7.9       144    220   \n3  Audi e-tron Sportback 55 quattro      86.5           5.7       200    375   \n4            Porsche Taycan Turbo S      83.7           2.8       260    390   \n\n   Efficiency  FastChargeSpeed              Drive  NumberofSeats  \\\n0         173              210  Front Wheel Drive              5   \n1         194                0  Front Wheel Drive              5   \n2         164              230  Front Wheel Drive              5   \n3         231              600    All Wheel Drive              5   \n4         215              860    All Wheel Drive              4   \n\n   PriceinGermany  PriceinUK  PriceinIndia  \n0           42990          0        103435  \n1               0      31680             0  \n2           29990      25995         67998  \n3               0      79900        276755  \n4          186336     138830        256939  ",
      "text/html": "<div>\n<style scoped>\n    .dataframe tbody tr th:only-of-type {\n        vertical-align: middle;\n    }\n\n    .dataframe tbody tr th {\n        vertical-align: top;\n    }\n\n    .dataframe thead th {\n        text-align: right;\n    }\n</style>\n<table border=\"1\" class=\"dataframe\">\n  <thead>\n    <tr style=\"text-align: right;\">\n      <th></th>\n      <th>Name</th>\n      <th>Subtitle</th>\n      <th>Acceleration</th>\n      <th>TopSpeed</th>\n      <th>Range</th>\n      <th>Efficiency</th>\n      <th>FastChargeSpeed</th>\n      <th>Drive</th>\n      <th>NumberofSeats</th>\n      <th>PriceinGermany</th>\n      <th>PriceinUK</th>\n      <th>PriceinIndia</th>\n    </tr>\n  </thead>\n  <tbody>\n    <tr>\n      <th>0</th>\n      <td>Opel Ampera-e</td>\n      <td>58.0</td>\n      <td>7.3</td>\n      <td>150</td>\n      <td>335</td>\n      <td>173</td>\n      <td>210</td>\n      <td>Front Wheel Drive</td>\n      <td>5</td>\n      <td>42990</td>\n      <td>0</td>\n      <td>103435</td>\n    </tr>\n    <tr>\n      <th>1</th>\n      <td>Renault Kangoo Maxi ZE 33</td>\n      <td>31.0</td>\n      <td>22.4</td>\n      <td>130</td>\n      <td>160</td>\n      <td>194</td>\n      <td>0</td>\n      <td>Front Wheel Drive</td>\n      <td>5</td>\n      <td>0</td>\n      <td>31680</td>\n      <td>0</td>\n    </tr>\n    <tr>\n      <th>2</th>\n      <td>Nissan Leaf</td>\n      <td>36.0</td>\n      <td>7.9</td>\n      <td>144</td>\n      <td>220</td>\n      <td>164</td>\n      <td>230</td>\n      <td>Front Wheel Drive</td>\n      <td>5</td>\n      <td>29990</td>\n      <td>25995</td>\n      <td>67998</td>\n    </tr>\n    <tr>\n      <th>3</th>\n      <td>Audi e-tron Sportback 55 quattro</td>\n      <td>86.5</td>\n      <td>5.7</td>\n      <td>200</td>\n      <td>375</td>\n      <td>231</td>\n      <td>600</td>\n      <td>All Wheel Drive</td>\n      <td>5</td>\n      <td>0</td>\n      <td>79900</td>\n      <td>276755</td>\n    </tr>\n    <tr>\n      <th>4</th>\n      <td>Porsche Taycan Turbo S</td>\n      <td>83.7</td>\n      <td>2.8</td>\n      <td>260</td>\n      <td>390</td>\n      <td>215</td>\n      <td>860</td>\n      <td>All Wheel Drive</td>\n      <td>4</td>\n      <td>186336</td>\n      <td>138830</td>\n      <td>256939</td>\n    </tr>\n  </tbody>\n</table>\n</div>"
     },
     "execution_count": 61,
     "metadata": {},
     "output_type": "execute_result"
    }
   ],
   "source": [
    "car_dataset.head()"
   ]
  },
  {
   "cell_type": "code",
   "execution_count": 62,
   "id": "a48b27a7",
   "metadata": {},
   "outputs": [],
   "source": [
    "#Filling Empty data of PriceinUK\n",
    "import pandas as pd\n",
    "pd.options.mode.chained_assignment = None\n",
    "\n",
    "for i in range(0, len(car_dataset['PriceinUK'])):\n",
    "    if (car_dataset[\"PriceinUK\"][i]==0):\n",
    "        val=car_dataset['PriceinIndia'][i]/75\n",
    "        car_dataset[\"PriceinUK\"][i]=val\n",
    "\n",
    "#Filling Empty data of PriceinGermany\n",
    "\n",
    "for i in range(0, len(car_dataset['PriceinGermany'])):\n",
    "    if (car_dataset[\"PriceinGermany\"][i]==0):\n",
    "        val=car_dataset['PriceinIndia'][i]/84\n",
    "        car_dataset[\"PriceinGermany\"][i]=val\n",
    "        \n",
    "#Filling Empty data of PriceinIndian\n",
    "\n",
    "for i in range(0, len(car_dataset['PriceinIndia'])):\n",
    "    if (car_dataset[\"PriceinIndia\"][i]==0):\n",
    "        val=car_dataset['PriceinUK'][i]*75\n",
    "        car_dataset[\"PriceinIndia\"][i]=val\n",
    "\n"
   ]
  },
  {
   "cell_type": "code",
   "execution_count": 63,
   "id": "8a8f4f5c",
   "metadata": {},
   "outputs": [
    {
     "data": {
      "text/plain": "                                 Name  Subtitle  Acceleration  TopSpeed  \\\n0                       Opel Ampera-e      58.0           7.3       150   \n1           Renault Kangoo Maxi ZE 33      31.0          22.4       130   \n2                         Nissan Leaf      36.0           7.9       144   \n3    Audi e-tron Sportback 55 quattro      86.5           5.7       200   \n4              Porsche Taycan Turbo S      83.7           2.8       260   \n..                                ...       ...           ...       ...   \n165      Toyota PROACE Verso M 75 kWh      68.0          13.1       130   \n166      Toyota PROACE Verso L 75 kWh      68.0          13.1       130   \n167        CUPRA Born 150 kW - 62 kWh      58.0           7.3       160   \n168        CUPRA Born 170 kW - 62 kWh      58.0           6.6       160   \n169        CUPRA Born 170 kW - 82 kWh      77.0           7.0       160   \n\n     Range  Efficiency  FastChargeSpeed  Drive  NumberofSeats  PriceinGermany  \\\n0      335         173              210      0              5           42990   \n1      160         194                0      0              5               0   \n2      220         164              230      0              5           29990   \n3      375         231              600      1              5            3294   \n4      390         215              860      1              4          186336   \n..     ...         ...              ...    ...            ...             ...   \n165    270         252              290      0              7           64530   \n166    270         252              290      0              7           65385   \n167    350         166              440      2              5           36770   \n168    345         168              430      2              5           39000   \n169    450         171              550      2              5           43000   \n\n     PriceinUK  PriceinIndia  \n0         1379        103435  \n1        31680       2376000  \n2        25995         67998  \n3        79900        276755  \n4       138830        256939  \n..         ...           ...  \n165       2686        201452  \n166       2336        175223  \n167      30500        153304  \n168      31500        277839  \n169      42000        141618  \n\n[170 rows x 12 columns]",
      "text/html": "<div>\n<style scoped>\n    .dataframe tbody tr th:only-of-type {\n        vertical-align: middle;\n    }\n\n    .dataframe tbody tr th {\n        vertical-align: top;\n    }\n\n    .dataframe thead th {\n        text-align: right;\n    }\n</style>\n<table border=\"1\" class=\"dataframe\">\n  <thead>\n    <tr style=\"text-align: right;\">\n      <th></th>\n      <th>Name</th>\n      <th>Subtitle</th>\n      <th>Acceleration</th>\n      <th>TopSpeed</th>\n      <th>Range</th>\n      <th>Efficiency</th>\n      <th>FastChargeSpeed</th>\n      <th>Drive</th>\n      <th>NumberofSeats</th>\n      <th>PriceinGermany</th>\n      <th>PriceinUK</th>\n      <th>PriceinIndia</th>\n    </tr>\n  </thead>\n  <tbody>\n    <tr>\n      <th>0</th>\n      <td>Opel Ampera-e</td>\n      <td>58.0</td>\n      <td>7.3</td>\n      <td>150</td>\n      <td>335</td>\n      <td>173</td>\n      <td>210</td>\n      <td>0</td>\n      <td>5</td>\n      <td>42990</td>\n      <td>1379</td>\n      <td>103435</td>\n    </tr>\n    <tr>\n      <th>1</th>\n      <td>Renault Kangoo Maxi ZE 33</td>\n      <td>31.0</td>\n      <td>22.4</td>\n      <td>130</td>\n      <td>160</td>\n      <td>194</td>\n      <td>0</td>\n      <td>0</td>\n      <td>5</td>\n      <td>0</td>\n      <td>31680</td>\n      <td>2376000</td>\n    </tr>\n    <tr>\n      <th>2</th>\n      <td>Nissan Leaf</td>\n      <td>36.0</td>\n      <td>7.9</td>\n      <td>144</td>\n      <td>220</td>\n      <td>164</td>\n      <td>230</td>\n      <td>0</td>\n      <td>5</td>\n      <td>29990</td>\n      <td>25995</td>\n      <td>67998</td>\n    </tr>\n    <tr>\n      <th>3</th>\n      <td>Audi e-tron Sportback 55 quattro</td>\n      <td>86.5</td>\n      <td>5.7</td>\n      <td>200</td>\n      <td>375</td>\n      <td>231</td>\n      <td>600</td>\n      <td>1</td>\n      <td>5</td>\n      <td>3294</td>\n      <td>79900</td>\n      <td>276755</td>\n    </tr>\n    <tr>\n      <th>4</th>\n      <td>Porsche Taycan Turbo S</td>\n      <td>83.7</td>\n      <td>2.8</td>\n      <td>260</td>\n      <td>390</td>\n      <td>215</td>\n      <td>860</td>\n      <td>1</td>\n      <td>4</td>\n      <td>186336</td>\n      <td>138830</td>\n      <td>256939</td>\n    </tr>\n    <tr>\n      <th>...</th>\n      <td>...</td>\n      <td>...</td>\n      <td>...</td>\n      <td>...</td>\n      <td>...</td>\n      <td>...</td>\n      <td>...</td>\n      <td>...</td>\n      <td>...</td>\n      <td>...</td>\n      <td>...</td>\n      <td>...</td>\n    </tr>\n    <tr>\n      <th>165</th>\n      <td>Toyota PROACE Verso M 75 kWh</td>\n      <td>68.0</td>\n      <td>13.1</td>\n      <td>130</td>\n      <td>270</td>\n      <td>252</td>\n      <td>290</td>\n      <td>0</td>\n      <td>7</td>\n      <td>64530</td>\n      <td>2686</td>\n      <td>201452</td>\n    </tr>\n    <tr>\n      <th>166</th>\n      <td>Toyota PROACE Verso L 75 kWh</td>\n      <td>68.0</td>\n      <td>13.1</td>\n      <td>130</td>\n      <td>270</td>\n      <td>252</td>\n      <td>290</td>\n      <td>0</td>\n      <td>7</td>\n      <td>65385</td>\n      <td>2336</td>\n      <td>175223</td>\n    </tr>\n    <tr>\n      <th>167</th>\n      <td>CUPRA Born 150 kW - 62 kWh</td>\n      <td>58.0</td>\n      <td>7.3</td>\n      <td>160</td>\n      <td>350</td>\n      <td>166</td>\n      <td>440</td>\n      <td>2</td>\n      <td>5</td>\n      <td>36770</td>\n      <td>30500</td>\n      <td>153304</td>\n    </tr>\n    <tr>\n      <th>168</th>\n      <td>CUPRA Born 170 kW - 62 kWh</td>\n      <td>58.0</td>\n      <td>6.6</td>\n      <td>160</td>\n      <td>345</td>\n      <td>168</td>\n      <td>430</td>\n      <td>2</td>\n      <td>5</td>\n      <td>39000</td>\n      <td>31500</td>\n      <td>277839</td>\n    </tr>\n    <tr>\n      <th>169</th>\n      <td>CUPRA Born 170 kW - 82 kWh</td>\n      <td>77.0</td>\n      <td>7.0</td>\n      <td>160</td>\n      <td>450</td>\n      <td>171</td>\n      <td>550</td>\n      <td>2</td>\n      <td>5</td>\n      <td>43000</td>\n      <td>42000</td>\n      <td>141618</td>\n    </tr>\n  </tbody>\n</table>\n<p>170 rows × 12 columns</p>\n</div>"
     },
     "execution_count": 63,
     "metadata": {},
     "output_type": "execute_result"
    }
   ],
   "source": [
    "# encoding \"Fuel_Type\" Column\n",
    "car_dataset.replace({'Drive':{'All Wheel Drive':1,'Front Wheel Drive':0,'Rear Wheel Drive':2}},inplace=True)\n",
    "car_dataset.head(170)"
   ]
  },
  {
   "cell_type": "code",
   "execution_count": 64,
   "id": "9757636c",
   "metadata": {},
   "outputs": [],
   "source": [
    "X = car_dataset.drop(['Name','PriceinGermany','PriceinUK'],axis=1)\n",
    "Y = car_dataset['PriceinIndia']"
   ]
  },
  {
   "cell_type": "code",
   "execution_count": 64,
   "id": "4cdfc47f",
   "metadata": {
    "scrolled": true
   },
   "outputs": [],
   "source": []
  },
  {
   "cell_type": "code",
   "execution_count": 64,
   "id": "07007326",
   "metadata": {},
   "outputs": [],
   "source": []
  },
  {
   "cell_type": "code",
   "execution_count": 65,
   "id": "01ca9e70",
   "metadata": {},
   "outputs": [],
   "source": [
    "X_train, X_test, Y_train, Y_test = train_test_split(X, Y, test_size = 0.1, random_state=2)"
   ]
  },
  {
   "cell_type": "markdown",
   "id": "37f68986",
   "metadata": {},
   "source": [
    "# linear regression model"
   ]
  },
  {
   "cell_type": "code",
   "execution_count": 66,
   "id": "f18c5581",
   "metadata": {},
   "outputs": [],
   "source": [
    "# loading the linear regression model\n",
    "lin_reg_model = LinearRegression()"
   ]
  },
  {
   "cell_type": "code",
   "execution_count": 67,
   "id": "06ef8cfa",
   "metadata": {},
   "outputs": [
    {
     "data": {
      "text/plain": "LinearRegression()"
     },
     "execution_count": 67,
     "metadata": {},
     "output_type": "execute_result"
    }
   ],
   "source": [
    "lin_reg_model.fit(X_train,Y_train)"
   ]
  },
  {
   "cell_type": "code",
   "execution_count": 68,
   "id": "e9a78a51",
   "metadata": {},
   "outputs": [],
   "source": [
    "# prediction on Training data\n",
    "training_data_prediction = lin_reg_model.predict(X_train)"
   ]
  },
  {
   "cell_type": "code",
   "execution_count": 69,
   "id": "b9ece960",
   "metadata": {},
   "outputs": [
    {
     "name": "stdout",
     "output_type": "stream",
     "text": [
      "R squared Error :  1.0\n"
     ]
    }
   ],
   "source": [
    "# R squared Error\n",
    "error_score = metrics.r2_score(Y_train, training_data_prediction)\n",
    "print(\"R squared Error : \", error_score)"
   ]
  },
  {
   "cell_type": "code",
   "execution_count": 70,
   "id": "ad48f2b6",
   "metadata": {},
   "outputs": [
    {
     "data": {
      "text/plain": "<Figure size 432x288 with 1 Axes>",
      "image/png": "[encoded data removed]"
     },
     "metadata": {
      "needs_background": "light"
     },
     "output_type": "display_data"
    }
   ],
   "source": [
    "plt.scatter(Y_train, training_data_prediction)\n",
    "plt.xlabel(\"Actual Price\")\n",
    "plt.ylabel(\"Predicted Price\")\n",
    "plt.title(\" Actual Prices vs Predicted Prices\")\n",
    "plt.show()"
   ]
  },
  {
   "cell_type": "code",
   "execution_count": 71,
   "id": "156da1a1",
   "metadata": {},
   "outputs": [],
   "source": [
    "# prediction on Training data\n",
    "test_data_prediction = lin_reg_model.predict(X_test)"
   ]
  },
  {
   "cell_type": "code",
   "execution_count": 72,
   "id": "fceea671",
   "metadata": {},
   "outputs": [
    {
     "name": "stdout",
     "output_type": "stream",
     "text": [
      "R squared Error :  1.0\n"
     ]
    }
   ],
   "source": [
    "# R squared Error\n",
    "error_score = metrics.r2_score(Y_test, test_data_prediction)\n",
    "print(\"R squared Error : \", error_score)"
   ]
  },
  {
   "cell_type": "code",
   "execution_count": 73,
   "id": "b73976a5",
   "metadata": {},
   "outputs": [
    {
     "data": {
      "text/plain": "<Figure size 432x288 with 1 Axes>",
      "image/png": "[encoded data removed]"
     },
     "metadata": {
      "needs_background": "light"
     },
     "output_type": "display_data"
    }
   ],
   "source": [
    "plt.scatter(Y_test, test_data_prediction)\n",
    "plt.xlabel(\"Actual Price\")\n",
    "plt.ylabel(\"Predicted Price\")\n",
    "plt.title(\" Actual Prices vs Predicted Prices\")\n",
    "plt.show()"
   ]
  },
  {
   "cell_type": "code",
   "execution_count": 73,
   "id": "ce6a7e8d",
   "metadata": {},
   "outputs": [],
   "source": []
  },
  {
   "cell_type": "code",
   "execution_count": 73,
   "id": "f1887442",
   "metadata": {},
   "outputs": [],
   "source": []
  },
  {
   "cell_type": "markdown",
   "id": "f710c6b3",
   "metadata": {},
   "source": [
    "# Random Forest Regressor"
   ]
  },
  {
   "cell_type": "code",
   "execution_count": 74,
   "id": "85a82941",
   "metadata": {},
   "outputs": [],
   "source": [
    "# loading the Random Forest Regression model\n",
    "\n",
    "from sklearn.ensemble import RandomForestRegressor\n",
    "regressor = RandomForestRegressor(n_estimators = 300, random_state = 0)"
   ]
  },
  {
   "cell_type": "code",
   "execution_count": 75,
   "id": "bae37eec",
   "metadata": {},
   "outputs": [
    {
     "data": {
      "text/plain": "RandomForestRegressor(n_estimators=300, random_state=0)"
     },
     "execution_count": 75,
     "metadata": {},
     "output_type": "execute_result"
    }
   ],
   "source": [
    "regressor.fit(X_train,Y_train)"
   ]
  },
  {
   "cell_type": "code",
   "execution_count": 76,
   "id": "bc0f8849",
   "metadata": {},
   "outputs": [],
   "source": [
    "# prediction on Training data\n",
    "training_data_prediction = regressor.predict(X_train)"
   ]
  },
  {
   "cell_type": "code",
   "execution_count": 77,
   "id": "17be68cc",
   "metadata": {},
   "outputs": [
    {
     "name": "stdout",
     "output_type": "stream",
     "text": [
      "R squared Error :  0.9949028718574424\n"
     ]
    }
   ],
   "source": [
    "# R squared Error\n",
    "error_score = metrics.r2_score(Y_train, training_data_prediction)\n",
    "print(\"R squared Error : \", error_score)"
   ]
  },
  {
   "cell_type": "code",
   "execution_count": 78,
   "id": "45672f1c",
   "metadata": {},
   "outputs": [
    {
     "data": {
      "text/plain": "<Figure size 432x288 with 1 Axes>",
      "image/png": "[encoded data removed]"
     },
     "metadata": {
      "needs_background": "light"
     },
     "output_type": "display_data"
    }
   ],
   "source": [
    "plt.scatter(Y_train, training_data_prediction)\n",
    "plt.xlabel(\"Actual Price\")\n",
    "plt.ylabel(\"Predicted Price\")\n",
    "plt.title(\" Actual Prices vs Predicted Prices\")\n",
    "plt.show()"
   ]
  },
  {
   "cell_type": "code",
   "execution_count": 79,
   "id": "2db50918",
   "metadata": {},
   "outputs": [],
   "source": [
    "# prediction on Training data\n",
    "test_data_prediction = regressor.predict(X_test)"
   ]
  },
  {
   "cell_type": "code",
   "execution_count": 80,
   "id": "5175bb5f",
   "metadata": {},
   "outputs": [
    {
     "name": "stdout",
     "output_type": "stream",
     "text": [
      "R squared Error :  0.9885493907288727\n"
     ]
    }
   ],
   "source": [
    "# R squared Error\n",
    "error_score = metrics.r2_score(Y_test, test_data_prediction)\n",
    "print(\"R squared Error : \", error_score)"
   ]
  },
  {
   "cell_type": "code",
   "execution_count": 81,
   "id": "025882ed",
   "metadata": {},
   "outputs": [
    {
     "data": {
      "text/plain": "<Figure size 432x288 with 1 Axes>",
      "image/png": "[encoded data removed]"
     },
     "metadata": {
      "needs_background": "light"
     },
     "output_type": "display_data"
    }
   ],
   "source": [
    "plt.scatter(Y_test, test_data_prediction)\n",
    "plt.xlabel(\"Actual Price\")\n",
    "plt.ylabel(\"Predicted Price\")\n",
    "plt.title(\" Actual Prices vs Predicted Prices\")\n",
    "plt.show()"
   ]
  },
  {
   "cell_type": "code",
   "execution_count": 82,
   "id": "d0bb6db8",
   "metadata": {},
   "outputs": [
    {
     "name": "stdout",
     "output_type": "stream",
     "text": [
      "MAE:  2660.735925925928\n"
     ]
    }
   ],
   "source": [
    "#Mean Absulet Error\n",
    "from sklearn.metrics import mean_absolute_error\n",
    "print(\"MAE: \",mean_absolute_error(Y_test,test_data_prediction))"
   ]
  },
  {
   "cell_type": "code",
   "execution_count": 83,
   "id": "abf96105",
   "metadata": {},
   "outputs": [
    {
     "name": "stdout",
     "output_type": "stream",
     "text": [
      "MSE:  65481296.8541309\n"
     ]
    }
   ],
   "source": [
    "#Mean Squared Error(MSE)\n",
    "from sklearn.metrics import mean_squared_error\n",
    "print(\"MSE: \",mean_squared_error(Y_test,test_data_prediction))"
   ]
  },
  {
   "cell_type": "code",
   "execution_count": 84,
   "id": "3a3ceefa",
   "metadata": {},
   "outputs": [
    {
     "name": "stdout",
     "output_type": "stream",
     "text": [
      "RMSE:  8092.051461411433\n"
     ]
    }
   ],
   "source": [
    "#Root Mean Squared Error(RMSE)\n",
    "print(\"RMSE: \",np.sqrt(mean_squared_error(Y_test,test_data_prediction)))"
   ]
  },
  {
   "cell_type": "markdown",
   "id": "a6b6b6d2",
   "metadata": {},
   "source": [
    "# Lasso Regression"
   ]
  },
  {
   "cell_type": "code",
   "execution_count": 85,
   "id": "f49143ec",
   "metadata": {},
   "outputs": [],
   "source": [
    "# loading the linear regression model\n",
    "lass_reg_model = Lasso()"
   ]
  },
  {
   "cell_type": "code",
   "execution_count": 86,
   "id": "314a6480",
   "metadata": {},
   "outputs": [
    {
     "data": {
      "text/plain": "Lasso()"
     },
     "execution_count": 86,
     "metadata": {},
     "output_type": "execute_result"
    }
   ],
   "source": [
    "lass_reg_model.fit(X_train,Y_train)"
   ]
  },
  {
   "cell_type": "code",
   "execution_count": 87,
   "id": "b227b32d",
   "metadata": {},
   "outputs": [],
   "source": [
    "# prediction on Training data\n",
    "training_data_prediction = lass_reg_model.predict(X_train)"
   ]
  },
  {
   "cell_type": "code",
   "execution_count": 88,
   "id": "f35c0d0b",
   "metadata": {},
   "outputs": [
    {
     "name": "stdout",
     "output_type": "stream",
     "text": [
      "R squared Error :  1.0\n"
     ]
    }
   ],
   "source": [
    "# R squared Error\n",
    "error_score = metrics.r2_score(Y_train, training_data_prediction)\n",
    "print(\"R squared Error : \", error_score)"
   ]
  },
  {
   "cell_type": "code",
   "execution_count": 89,
   "id": "79c965c6",
   "metadata": {},
   "outputs": [
    {
     "data": {
      "text/plain": "<Figure size 432x288 with 1 Axes>",
      "image/png": "[encoded data removed]"
     },
     "metadata": {
      "needs_background": "light"
     },
     "output_type": "display_data"
    }
   ],
   "source": [
    "plt.scatter(Y_train, training_data_prediction)\n",
    "plt.xlabel(\"Actual Price\")\n",
    "plt.ylabel(\"Predicted Price\")\n",
    "plt.title(\" Actual Prices vs Predicted Prices\")\n",
    "plt.show()"
   ]
  },
  {
   "cell_type": "code",
   "execution_count": 90,
   "id": "8d7380f4",
   "metadata": {},
   "outputs": [],
   "source": [
    "# prediction on Training data\n",
    "test_data_prediction = lass_reg_model.predict(X_test)"
   ]
  },
  {
   "cell_type": "code",
   "execution_count": 91,
   "id": "de1969d7",
   "metadata": {},
   "outputs": [
    {
     "name": "stdout",
     "output_type": "stream",
     "text": [
      "R squared Error :  1.0\n"
     ]
    }
   ],
   "source": [
    "# R squared Error\n",
    "error_score = metrics.r2_score(Y_test, test_data_prediction)\n",
    "print(\"R squared Error : \", error_score)"
   ]
  },
  {
   "cell_type": "code",
   "execution_count": 92,
   "id": "5ec8f128",
   "metadata": {},
   "outputs": [
    {
     "data": {
      "text/plain": "<Figure size 432x288 with 1 Axes>",
      "image/png": "[encoded data removed]"
     },
     "metadata": {
      "needs_background": "light"
     },
     "output_type": "display_data"
    }
   ],
   "source": [
    "plt.scatter(Y_test, test_data_prediction)\n",
    "plt.xlabel(\"Actual Price\")\n",
    "plt.ylabel(\"Predicted Price\")\n",
    "plt.title(\" Actual Prices vs Predicted Prices\")\n",
    "plt.show()\n"
   ]
  },
  {
   "cell_type": "code",
   "execution_count": 92,
   "id": "e12874a7",
   "metadata": {},
   "outputs": [],
   "source": []
  },
  {
   "cell_type": "code",
   "execution_count": 92,
   "id": "358bc27e",
   "metadata": {},
   "outputs": [],
   "source": []
  }
 ],
 "metadata": {
  "kernelspec": {
   "display_name": "Python 3 (ipykernel)",
   "language": "python",
   "name": "python3"
  },
  "language_info": {
   "codemirror_mode": {
    "name": "ipython",
    "version": 3
   },
   "file_extension": ".py",
   "mimetype": "text/x-python",
   "name": "python",
   "nbconvert_exporter": "python",
   "pygments_lexer": "ipython3",
   "version": "3.9.7"
  }
 },
 "nbformat": 4,
 "nbformat_minor": 5
}